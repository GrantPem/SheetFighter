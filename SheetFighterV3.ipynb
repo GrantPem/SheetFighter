{
 "cells": [
  {
   "cell_type": "code",
   "execution_count": null,
   "id": "7f6058ea-bea4-466c-aeb5-d5158412e6bb",
   "metadata": {},
   "outputs": [],
   "source": [
    "import pandas as pd\n",
    "import csv\n",
    "\n",
    "#Example\n",
    "#dfA = pd.read_csv(r'C:\\Users\\..\\Table.csv')\n",
    "#dfB = pd.read_csv(r'C:\\Users\\..\\Fasta.csv')\n",
    "\n",
    "\n",
    "Pathway1 = input(r'Insert the pathway to the table of contents.')\n",
    "Pathway2 = input(r'Insert the pathway to the Fasta.')\n",
    "\n",
    "\n"
   ]
  },
  {
   "cell_type": "code",
   "execution_count": 40,
   "id": "76ef61f7-ac3a-4d24-9391-fdf42c91751c",
   "metadata": {},
   "outputs": [],
   "source": [
    "Table = pd.read_csv(Pathway1)\n",
    "Fasta = pd.read_csv(Pathway2)"
   ]
  },
  {
   "cell_type": "code",
   "execution_count": 41,
   "id": "775dcbc5-df5e-47ab-bf26-8e4a33f20b9b",
   "metadata": {},
   "outputs": [],
   "source": [
    "# Merge based on the 'ID' column (inner join)\n",
    "merged_df = pd.merge(Fasta, Table, on='ID', how='left')"
   ]
  },
  {
   "cell_type": "code",
   "execution_count": 44,
   "id": "64ad7c1c-2507-4c25-98ac-40fb8983ed7c",
   "metadata": {},
   "outputs": [],
   "source": [
    "merged_df.to_csv(r'C:\\Users\\glp62\\Documents\\SheetFighter\\SheetFighter_Output.csv', index=False)"
   ]
  },
  {
   "cell_type": "code",
   "execution_count": null,
   "id": "340ef46b-ca53-4a4a-8493-fc6ecae681bb",
   "metadata": {},
   "outputs": [],
   "source": []
  }
 ],
 "metadata": {
  "kernelspec": {
   "display_name": "Python 3 (ipykernel)",
   "language": "python",
   "name": "python3"
  },
  "language_info": {
   "codemirror_mode": {
    "name": "ipython",
    "version": 3
   },
   "file_extension": ".py",
   "mimetype": "text/x-python",
   "name": "python",
   "nbconvert_exporter": "python",
   "pygments_lexer": "ipython3",
   "version": "3.12.3"
  }
 },
 "nbformat": 4,
 "nbformat_minor": 5
}
